{
 "cells": [
  {
   "cell_type": "markdown",
   "metadata": {},
   "source": [
    "# Part1\n",
    "\n",
    "## 1. Top-10 Reviewer"
   ]
  },
  {
   "cell_type": "code",
   "execution_count": 87,
   "metadata": {
    "scrolled": false
   },
   "outputs": [
    {
     "data": {
      "text/html": [
       "<div>\n",
       "<style scoped>\n",
       "    .dataframe tbody tr th:only-of-type {\n",
       "        vertical-align: middle;\n",
       "    }\n",
       "\n",
       "    .dataframe tbody tr th {\n",
       "        vertical-align: top;\n",
       "    }\n",
       "\n",
       "    .dataframe thead th {\n",
       "        text-align: right;\n",
       "    }\n",
       "</style>\n",
       "<table border=\"1\" class=\"dataframe\">\n",
       "  <thead>\n",
       "    <tr style=\"text-align: right;\">\n",
       "      <th></th>\n",
       "      <th>ProfileName</th>\n",
       "      <th>Score count</th>\n",
       "      <th>Score mean</th>\n",
       "    </tr>\n",
       "    <tr>\n",
       "      <th>UserId</th>\n",
       "      <th></th>\n",
       "      <th></th>\n",
       "      <th></th>\n",
       "    </tr>\n",
       "  </thead>\n",
       "  <tbody>\n",
       "    <tr>\n",
       "      <th>A1Z54EM24Y40LL</th>\n",
       "      <td>c2</td>\n",
       "      <td>17</td>\n",
       "      <td>3.882353</td>\n",
       "    </tr>\n",
       "    <tr>\n",
       "      <th>A2SZLNSI5KOQJT</th>\n",
       "      <td>Carrie, \"Formerly &amp;#34;Sister Carrie&amp;#34;\"</td>\n",
       "      <td>10</td>\n",
       "      <td>3.800000</td>\n",
       "    </tr>\n",
       "    <tr>\n",
       "      <th>A35R32TA60XD57</th>\n",
       "      <td>M. Torma</td>\n",
       "      <td>9</td>\n",
       "      <td>4.111111</td>\n",
       "    </tr>\n",
       "    <tr>\n",
       "      <th>A281NPSIMI1C2R</th>\n",
       "      <td>Rebecca of Amazon \"The Rebecca Review\"</td>\n",
       "      <td>8</td>\n",
       "      <td>5.000000</td>\n",
       "    </tr>\n",
       "    <tr>\n",
       "      <th>A3OXHLG6DIBRW8</th>\n",
       "      <td>C. F. Hill \"CFH\"</td>\n",
       "      <td>7</td>\n",
       "      <td>4.428571</td>\n",
       "    </tr>\n",
       "    <tr>\n",
       "      <th>A3NHUQ33CFH3VM</th>\n",
       "      <td>Citizen John</td>\n",
       "      <td>7</td>\n",
       "      <td>3.142857</td>\n",
       "    </tr>\n",
       "    <tr>\n",
       "      <th>A3PJZ8TU8FDQ1K</th>\n",
       "      <td>Jared Castle</td>\n",
       "      <td>7</td>\n",
       "      <td>4.714286</td>\n",
       "    </tr>\n",
       "    <tr>\n",
       "      <th>AQ6SHOW0VMZGF</th>\n",
       "      <td>K. Padgett \"familyof5\"</td>\n",
       "      <td>6</td>\n",
       "      <td>2.666667</td>\n",
       "    </tr>\n",
       "    <tr>\n",
       "      <th>A26NFIQ7KWI8Y7</th>\n",
       "      <td>kt rose</td>\n",
       "      <td>6</td>\n",
       "      <td>2.666667</td>\n",
       "    </tr>\n",
       "    <tr>\n",
       "      <th>A10H24TDLK2VDP</th>\n",
       "      <td>William Jens Jensen</td>\n",
       "      <td>6</td>\n",
       "      <td>3.000000</td>\n",
       "    </tr>\n",
       "  </tbody>\n",
       "</table>\n",
       "</div>"
      ],
      "text/plain": [
       "                                               ProfileName  Score count  \\\n",
       "UserId                                                                    \n",
       "A1Z54EM24Y40LL                                          c2           17   \n",
       "A2SZLNSI5KOQJT  Carrie, \"Formerly &#34;Sister Carrie&#34;\"           10   \n",
       "A35R32TA60XD57                                    M. Torma            9   \n",
       "A281NPSIMI1C2R      Rebecca of Amazon \"The Rebecca Review\"            8   \n",
       "A3OXHLG6DIBRW8                            C. F. Hill \"CFH\"            7   \n",
       "A3NHUQ33CFH3VM                                Citizen John            7   \n",
       "A3PJZ8TU8FDQ1K                                Jared Castle            7   \n",
       "AQ6SHOW0VMZGF                       K. Padgett \"familyof5\"            6   \n",
       "A26NFIQ7KWI8Y7                                     kt rose            6   \n",
       "A10H24TDLK2VDP                         William Jens Jensen            6   \n",
       "\n",
       "                Score mean  \n",
       "UserId                      \n",
       "A1Z54EM24Y40LL    3.882353  \n",
       "A2SZLNSI5KOQJT    3.800000  \n",
       "A35R32TA60XD57    4.111111  \n",
       "A281NPSIMI1C2R    5.000000  \n",
       "A3OXHLG6DIBRW8    4.428571  \n",
       "A3NHUQ33CFH3VM    3.142857  \n",
       "A3PJZ8TU8FDQ1K    4.714286  \n",
       "AQ6SHOW0VMZGF     2.666667  \n",
       "A26NFIQ7KWI8Y7    2.666667  \n",
       "A10H24TDLK2VDP    3.000000  "
      ]
     },
     "execution_count": 87,
     "metadata": {},
     "output_type": "execute_result"
    }
   ],
   "source": [
    "import pandas as pd\n",
    "input_file = pd.read_csv(\"/home/dianarolien/Downloads/Reviews.csv\")\n",
    "data = input_file[:10000]\n",
    "group = data.groupby(['UserId','ProfileName']).size()\n",
    "group.name = 'Score count'\n",
    "group = group.reset_index()\n",
    "group.insert(3,column = 'Score mean',value = data.groupby(['UserId','ProfileName'], as_index=False).mean()['Score'])\n",
    "group.set_index('UserId' , inplace=True)\n",
    "group.sort_values('Score count',ascending=False)[:10]\n"
   ]
  },
  {
   "cell_type": "markdown",
   "metadata": {},
   "source": [
    "## 2. Plot score distribution for the user with the most number of reviews"
   ]
  },
  {
   "cell_type": "code",
   "execution_count": 88,
   "metadata": {
    "scrolled": true
   },
   "outputs": [
    {
     "data": {
      "text/plain": [
       "<matplotlib.axes._subplots.AxesSubplot at 0x7f973b8ea4e0>"
      ]
     },
     "execution_count": 88,
     "metadata": {},
     "output_type": "execute_result"
    },
    {
     "data": {
      "image/png": "[encoded data removed]",
      "text/plain": [
       "<Figure size 432x288 with 1 Axes>"
      ]
     },
     "metadata": {},
     "output_type": "display_data"
    }
   ],
   "source": [
    "user = group.sort_values('Score count',ascending=False)[:1].index.get_level_values('UserId')\n",
    "user = user[0]\n",
    "f = data['UserId'] == user    \n",
    "import matplotlib.pyplot as plt\n",
    "data[f]['Score'].plot.hist()"
   ]
  },
  {
   "cell_type": "markdown",
   "metadata": {},
   "source": [
    "## 3. Plot pandas Series DataFrame (Time->Date)"
   ]
  },
  {
   "cell_type": "code",
   "execution_count": 22,
   "metadata": {},
   "outputs": [
    {
     "data": {
      "text/plain": [
       "(array([2.890e+03, 3.246e+03, 5.080e+02, 2.800e+01, 1.621e+03, 1.193e+03,\n",
       "        1.220e+02, 3.700e+02, 2.000e+01, 2.000e+00]),\n",
       " array([0. , 0.9, 1.8, 2.7, 3.6, 4.5, 5.4, 6.3, 7.2, 8.1, 9. ]),\n",
       " <a list of 10 Patch objects>)"
      ]
     },
     "execution_count": 22,
     "metadata": {},
     "output_type": "execute_result"
    },
    {
     "data": {
      "image/png": "[encoded data removed]",
      "text/plain": [
       "<Figure size 432x288 with 1 Axes>"
      ]
     },
     "metadata": {},
     "output_type": "display_data"
    }
   ],
   "source": [
    "import datetime\n",
    "year = []\n",
    "for i in range(10000):\n",
    "    timeStamp = data['Time'][i]\n",
    "    dateArray = datetime.datetime.utcfromtimestamp(timeStamp)\n",
    "    y = dateArray.strftime(\"%Y\")\n",
    "    year.append(y)\n",
    "plt.hist(year)"
   ]
  },
  {
   "cell_type": "markdown",
   "metadata": {},
   "source": [
    "## 4. Plot HeatMap using seaborn"
   ]
  },
  {
   "cell_type": "code",
   "execution_count": 89,
   "metadata": {},
   "outputs": [
    {
     "data": {
      "image/png": "[encoded data removed]",
      "text/plain": [
       "<Figure size 864x720 with 2 Axes>"
      ]
     },
     "metadata": {},
     "output_type": "display_data"
    }
   ],
   "source": [
    "import seaborn as sns\n",
    "plt.figure(figsize=(12,10))\n",
    "ax = sns.heatmap(data[['Id', 'HelpfulnessNumerator','HelpfulnessDenominator', 'Score', 'Time']].corr(),vmax=0.6, square=True, annot=True)\n"
   ]
  },
  {
   "cell_type": "markdown",
   "metadata": {},
   "source": [
    "## 5. Plot HeatMap using seaborn"
   ]
  },
  {
   "cell_type": "code",
   "execution_count": 90,
   "metadata": {
    "scrolled": true
   },
   "outputs": [
    {
     "data": {
      "text/plain": [
       "(array([4878.,    0.,    0.,    0.,    0.,  689.,  225.,  422.,  317.,\n",
       "        3469.]),\n",
       " array([-1. , -0.8, -0.6, -0.4, -0.2,  0. ,  0.2,  0.4,  0.6,  0.8,  1. ]),\n",
       " <a list of 10 Patch objects>)"
      ]
     },
     "execution_count": 90,
     "metadata": {},
     "output_type": "execute_result"
    },
    {
     "data": {
      "image/png": "[encoded data removed]",
      "text/plain": [
       "<Figure size 432x288 with 1 Axes>"
      ]
     },
     "metadata": {},
     "output_type": "display_data"
    }
   ],
   "source": [
    "f = data['HelpfulnessNumerator'] <= data['HelpfulnessDenominator'] \n",
    "hp = []\n",
    "for i in range(data[f].shape[0]):\n",
    "    if data[f]['HelpfulnessNumerator'][i] == 0 and data[f]['HelpfulnessDenominator'][i] == 0:\n",
    "        hp.append(-1)\n",
    "    elif data[f]['HelpfulnessNumerator'][i] <= data[f]['HelpfulnessDenominator'][i]:\n",
    "        hp.append(data[f]['HelpfulnessNumerator'][i]/data[f]['HelpfulnessDenominator'][i])\n",
    "    \n",
    "plt.hist(hp)"
   ]
  },
  {
   "cell_type": "markdown",
   "metadata": {},
   "source": [
    "\n",
    "\n",
    "# Part2：Suicide Rates Overview 1985 to 2016\n",
    "\n",
    "[dataset link](https://www.kaggle.com/russellyates88/suicide-rates-overview-1985-to-2016#master.csv)"
   ]
  },
  {
   "cell_type": "markdown",
   "metadata": {},
   "source": [
    "## 1. Top 10 自殺人數--以國家、性別做區分"
   ]
  },
  {
   "cell_type": "code",
   "execution_count": 98,
   "metadata": {},
   "outputs": [
    {
     "data": {
      "text/html": [
       "<div>\n",
       "<style scoped>\n",
       "    .dataframe tbody tr th:only-of-type {\n",
       "        vertical-align: middle;\n",
       "    }\n",
       "\n",
       "    .dataframe tbody tr th {\n",
       "        vertical-align: top;\n",
       "    }\n",
       "\n",
       "    .dataframe thead th {\n",
       "        text-align: right;\n",
       "    }\n",
       "</style>\n",
       "<table border=\"1\" class=\"dataframe\">\n",
       "  <thead>\n",
       "    <tr style=\"text-align: right;\">\n",
       "      <th></th>\n",
       "      <th>country</th>\n",
       "      <th>sex</th>\n",
       "      <th>Suicides_no</th>\n",
       "    </tr>\n",
       "    <tr>\n",
       "      <th>year</th>\n",
       "      <th></th>\n",
       "      <th></th>\n",
       "      <th></th>\n",
       "    </tr>\n",
       "  </thead>\n",
       "  <tbody>\n",
       "    <tr>\n",
       "      <th>1991</th>\n",
       "      <td>Germany</td>\n",
       "      <td>male</td>\n",
       "      <td>9656</td>\n",
       "    </tr>\n",
       "    <tr>\n",
       "      <th>1990</th>\n",
       "      <td>Germany</td>\n",
       "      <td>male</td>\n",
       "      <td>9534</td>\n",
       "    </tr>\n",
       "    <tr>\n",
       "      <th>1992</th>\n",
       "      <td>Germany</td>\n",
       "      <td>male</td>\n",
       "      <td>9326</td>\n",
       "    </tr>\n",
       "    <tr>\n",
       "      <th>1995</th>\n",
       "      <td>Germany</td>\n",
       "      <td>male</td>\n",
       "      <td>9222</td>\n",
       "    </tr>\n",
       "    <tr>\n",
       "      <th>1994</th>\n",
       "      <td>Germany</td>\n",
       "      <td>male</td>\n",
       "      <td>9130</td>\n",
       "    </tr>\n",
       "    <tr>\n",
       "      <th>1993</th>\n",
       "      <td>Germany</td>\n",
       "      <td>male</td>\n",
       "      <td>8960</td>\n",
       "    </tr>\n",
       "    <tr>\n",
       "      <th>1985</th>\n",
       "      <td>France</td>\n",
       "      <td>male</td>\n",
       "      <td>8898</td>\n",
       "    </tr>\n",
       "    <tr>\n",
       "      <th>1986</th>\n",
       "      <td>France</td>\n",
       "      <td>male</td>\n",
       "      <td>8872</td>\n",
       "    </tr>\n",
       "    <tr>\n",
       "      <th>1994</th>\n",
       "      <td>France</td>\n",
       "      <td>male</td>\n",
       "      <td>8872</td>\n",
       "    </tr>\n",
       "    <tr>\n",
       "      <th>1993</th>\n",
       "      <td>France</td>\n",
       "      <td>male</td>\n",
       "      <td>8861</td>\n",
       "    </tr>\n",
       "  </tbody>\n",
       "</table>\n",
       "</div>"
      ],
      "text/plain": [
       "      country   sex  Suicides_no\n",
       "year                            \n",
       "1991  Germany  male         9656\n",
       "1990  Germany  male         9534\n",
       "1992  Germany  male         9326\n",
       "1995  Germany  male         9222\n",
       "1994  Germany  male         9130\n",
       "1993  Germany  male         8960\n",
       "1985   France  male         8898\n",
       "1986   France  male         8872\n",
       "1994   France  male         8872\n",
       "1993   France  male         8861"
      ]
     },
     "execution_count": 98,
     "metadata": {},
     "output_type": "execute_result"
    }
   ],
   "source": [
    "input_f = pd.read_csv(\"/home/dianarolien/Downloads/master.csv\")\n",
    "data = input_f[:10000]\n",
    "group = data.groupby(['country','year','sex']).sum()['suicides_no']\n",
    "group.name = 'Suicides_no'\n",
    "group = group.reset_index()\n",
    "group.set_index('year' , inplace=True)\n",
    "group.sort_values('Suicides_no',ascending=False)[:10]\n"
   ]
  },
  {
   "cell_type": "markdown",
   "metadata": {},
   "source": [
    "## 2. 每年自殺人數總和"
   ]
  },
  {
   "cell_type": "code",
   "execution_count": 99,
   "metadata": {
    "scrolled": true
   },
   "outputs": [
    {
     "data": {
      "text/plain": [
       "<BarContainer object of 32 artists>"
      ]
     },
     "execution_count": 99,
     "metadata": {},
     "output_type": "execute_result"
    },
    {
     "data": {
      "image/png": "[encoded data removed]",
      "text/plain": [
       "<Figure size 432x288 with 1 Axes>"
      ]
     },
     "metadata": {},
     "output_type": "display_data"
    }
   ],
   "source": [
    "gp = data.groupby(['year']).sum()['suicides_no']\n",
    "gp.name = 'Suicides_no'\n",
    "gp = gp.reset_index()\n",
    "gp.set_index('year' , inplace=True)\n",
    "gp.sort_values('Suicides_no',ascending=False)\n",
    "plt.bar(gp.index.get_level_values('year'), gp['Suicides_no'])"
   ]
  },
  {
   "cell_type": "markdown",
   "metadata": {},
   "source": [
    "## 3. 男性：女性自殺人數比"
   ]
  },
  {
   "cell_type": "code",
   "execution_count": 117,
   "metadata": {},
   "outputs": [
    {
     "name": "stdout",
     "output_type": "stream",
     "text": [
      "      male_Suicides_no  female_suicides_no  suicides ratio\n",
      "year                                                      \n",
      "1985             23296                8592        2.711359\n",
      "1986             23682                8996        2.632503\n",
      "1987             25077                9207        2.723688\n",
      "1988             24334                8770        2.774686\n",
      "1989             24271                8641        2.808818\n",
      "1990             37478               14216        2.636325\n",
      "1991             38336               13985        2.741223\n",
      "1992             40328               14754        2.733360\n",
      "1993             41119               14600        2.816370\n",
      "1994             42528               14489        2.935192\n",
      "1995             44657               15198        2.938347\n",
      "1996             44275               14621        3.028179\n",
      "1997             44256               14600        3.031233\n",
      "1998             44388               14006        3.169213\n",
      "1999             43535               13635        3.192886\n",
      "2000             44347               13855        3.200794\n",
      "2001             45300               14085        3.216187\n",
      "2002             44452               14262        3.116814\n",
      "2003             45162               13953        3.236723\n",
      "2004             41661               13262        3.141381\n",
      "2005             39403               12703        3.101866\n",
      "2006             40482               12696        3.188563\n",
      "2007             42364               13057        3.244543\n",
      "2008             43462               13280        3.272741\n",
      "2009             44461               13142        3.383123\n",
      "2010             44035               13391        3.288403\n",
      "2011             44238               13163        3.360784\n",
      "2012             42690               12915        3.305459\n",
      "2013             43626               13092        3.332264\n",
      "2014             37086                9512        3.898865\n",
      "2015             24165                6919        3.492557\n",
      "2016              2565                 740        3.466216\n"
     ]
    },
    {
     "data": {
      "text/plain": [
       "[<matplotlib.lines.Line2D at 0x7f97418fc208>]"
      ]
     },
     "execution_count": 117,
     "metadata": {},
     "output_type": "execute_result"
    },
    {
     "data": {
      "image/png": "[encoded data removed]",
      "text/plain": [
       "<Figure size 432x288 with 1 Axes>"
      ]
     },
     "metadata": {},
     "output_type": "display_data"
    }
   ],
   "source": [
    "f = data['sex'] == 'male'\n",
    "group = data[f].groupby(['year']).sum()['suicides_no']\n",
    "group.name = 'male_Suicides_no'\n",
    "group = group.reset_index()\n",
    "group.set_index('year' , inplace=True)\n",
    "\n",
    "f = data['sex'] == 'female'\n",
    "group.insert(1,column = 'female_suicides_no',value = data[f].groupby(['year']).sum()['suicides_no'])\n",
    "\n",
    "group.insert(2,column = 'suicides ratio',value = group['male_Suicides_no']/group['female_suicides_no'])\n",
    "print(group)\n",
    "\n",
    "\n",
    "plt.title('suicides ratio')\n",
    "plt.plot(group.index.get_level_values('year'), group['suicides ratio'])"
   ]
  },
  {
   "cell_type": "code",
   "execution_count": null,
   "metadata": {},
   "outputs": [],
   "source": []
  }
 ],
 "metadata": {
  "kernelspec": {
   "display_name": "Python 3",
   "language": "python",
   "name": "python3"
  },
  "language_info": {
   "codemirror_mode": {
    "name": "ipython",
    "version": 3
   },
   "file_extension": ".py",
   "mimetype": "text/x-python",
   "name": "python",
   "nbconvert_exporter": "python",
   "pygments_lexer": "ipython3",
   "version": "3.6.7"
  }
 },
 "nbformat": 4,
 "nbformat_minor": 2
}
